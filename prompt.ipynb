{
 "cells": [
  {
   "cell_type": "code",
   "execution_count": 10,
   "metadata": {},
   "outputs": [],
   "source": [
    "! pip3 install -qU langchain-upstage"
   ]
  },
  {
   "cell_type": "code",
   "execution_count": 11,
   "metadata": {
    "slideshow": {
     "slide_type": "slide"
    }
   },
   "outputs": [
    {
     "name": "stdout",
     "output_type": "stream",
     "text": [
      "The dotenv extension is already loaded. To reload it, use:\n",
      "  %reload_ext dotenv\n",
      "cannot find .env file\n"
     ]
    }
   ],
   "source": [
    "%load_ext dotenv\n",
    "%dotenv\n",
    "# set UPSTAGE_API_KEY"
   ]
  },
  {
   "cell_type": "code",
   "execution_count": 12,
   "metadata": {},
   "outputs": [],
   "source": [
    "import warnings\n",
    "\n",
    "warnings.filterwarnings(\"ignore\")"
   ]
  },
  {
   "cell_type": "code",
   "execution_count": 15,
   "metadata": {},
   "outputs": [],
   "source": [
    "cominfo_1 = \"\"\"\n",
    "수출 7,000억불 달성\n",
    "한국무역보험공사가 앞장서겠습니다!”\n",
    "안녕하십니까? 한국무역보험공사 사장 장영진입니다.\n",
    "1992년 대외거래 위험 전담기관으로 설립된 한국무역보험공사는 글로벌 금융위기, 코로나 팬데믹 등 위기 상황에서 우리 기업들의 버팀목 역할을 해왔습니다.\n",
    "\n",
    "특히, 지난해에는 역대 최대 규모인 244.8조원의 무역보험을 공급하여 수출 플러스 전환에 기여하였습니다.\n",
    "\n",
    "최근 우리경제는 수출과 성장이 정체되는 복합위기에 직면해 있습니다. 美·中 등 주요 국가간 무역패권 경쟁이 심화되고 있으며, 글로벌 고금리 기조에 따른 세계 경기침체 우려도 커지고 있습니다. 또한 유럽과 중동의 지정학적 위험 또한 긴장을 늦출 수 없는 상황입니다.\n",
    "\n",
    "이러한 시기에 한국무역보험공사 전 임직원은 과거 위기 극복 DNA를 되살려 우리 기업들의 수출확대를 위해 전사적 역량을 집중하겠습니다.\n",
    "\n",
    "우선, 중소 · 중견기업과 함께 성장하겠습니다.\n",
    "금융기관과의 협력을 통해 무역금융 지원 시너지를 창출하는 한편, 성장단계별 맞춤형 지원으로 우리기업의 글로벌 수출 우량기업으로의 도약을 위한 징검다리가 되겠습니다.\n",
    "둘째, 수출 신(新)시장 개척 및 품목 다변화를 이끌겠습니다.\n",
    "인도·아세안 등 신흥시장 진출을 적극 지원하여 수출시장을 다변화하고 정부 정책 연계품목 특화지원 등을 통해 무역영토를 확장해 나가겠습니다.\n",
    "셋째, 대한민국의 미래를 키워가겠습니다.\n",
    "반도체, 이차전지 등 첨단산업의 초격차 확대와 더불어 방산·원전 등 전략산업을 적극 지원하여 대한민국의 새로운 성장동력을 키워가겠습니다.\n",
    "마지막으로 고객을 위한 혁신에 힘쓰겠습니다.\n",
    "고객 만족을 위한 제도 개선과 더불어 디지털·AI 등 新기술을 접목하여 누구나 쉽게 다가갈 수 있는 무역보험 시스템을 구축하겠습니다.\n",
    "지금도 세계 주요 국가들은 자국의 이익을 지키기 위해 교역의 문턱을 높이고 있으며, 이는 우리 수출에 큰 장애물로 작용할 것입니다.\n",
    "한국무역보험공사는 우리 기업들과 손잡고 해외수출시장의 험로(險路)를 한 걸음씩 개척해 나가겠습니다.\n",
    "애정 어린 관심과 변함없는 성원을 부탁드립니다.\n",
    "감사합니다.\"\n",
    "\"\"\"\n",
    "\n",
    "cominfo_2 = \"\"\"\n",
    "한국무역보험공사 K-SURE는\n",
    "우리나라 ‘수출·수입보험제도’를 전담·운영하는 정부출연기관으로 ’92년도 설립되었습니다.\n",
    "무역보험공사는 다양한 무역보험 상품 개발 및 고부가가치 서비스의 개발에 전력을 다하고 있습니다.\n",
    "무역보험법에 의거, 1992년 7월 설립된 한국무역보험공사(K-SURE)는 무역과 해외투자 촉진을 통한 국가경쟁력강화라는 설립 목적 달성을 위해 무역보험, 해외투자보험 및 신용보증 등의 제도를 시행하고 있는 산업통상자원부 산하의 무역투자보험기관으로서, 다음과 같은 업무를 담당하고 있습니다.\n",
    "주요업무\n",
    "다양한 무역보험 종목\n",
    "상품 및 자본재 수출·수입, 해외건설·투자, 환변동위험 관리, 문화·서비스 등 용역 수출 및 기타 대외거래에서 발생하는 위험을 담보하기 위한 다양한 무역보험 종목 운영\n",
    "신용정보서비스 및 채권추심 서비스 제공\n",
    "신용조사 및 신용정보 관리 등의 신용정보 서비스와 해외미수채권에 대한 채권회수 대행 등 채권추심 서비스 제공\n",
    "국민에게 신뢰받는 공기업\n",
    "「청렴경영ㆍ투명경영ㆍ나눔경영ㆍ 소통경영」등 윤리경영과 경영혁신을 통한 고객만족경영 강조로 ‘국민에게 신뢰받는 공기업’ 실현\n",
    "무역보험기금 운용\n",
    "무역보험기금에 대한 정부 출연금액을 바탕 으로 매년 국회 의결로 결정되는 계약체결한도 내에서 무역보험을 인수하고 적립된 기금을 공사 책임 하에 운용\n",
    "무역보험의 역할 증대\n",
    "무역진흥을 통하여 안정적인 무역과 대외투자를 견인, 국가경쟁력을 강화하고 국민경제 발전에 기여하는 무역보험의 역할 증대\n",
    "무역보험공사는 늘 변화하는 세계 무역환경의 변화에 적극 부응함으로써 우리나라의 수출증진에 기여하고 더 나아가 세계 교역활성화에 이바지하기 위하여\n",
    "다양한 무역보험 상품 개발 및 고부가가치 서비스의 개발에 전력을 다하고 있습니다.\n",
    "\"\"\"\n",
    "\n",
    "cominfo_3 = \"\"\"\n",
    "인재상\n",
    "무역보험공사는 급변하는 세계 무역환경에 유기적으로 대처할 수 있는 국제감각과 금융인으로서 기본적으로 갖추어야 할 전문지식을 겸비하고 공기업으로서의 윤리의식을 소유한 인재를 바라고 있습니다\n",
    "\n",
    "전문인\n",
    "무역금융을 선도하는\n",
    "전문지식을 겸비한 인재\n",
    "\n",
    "혁신인\n",
    "변화와 혁신을\n",
    "능동적으로 주도하는 인재\n",
    "\n",
    "국제인\n",
    "급변하는 국제통상 환경에\n",
    "유기적으로 대처하는 인재\n",
    "\n",
    "윤리인\n",
    "사회적 책임과\n",
    "윤리의식을 소유한 인재\n",
    "\"\"\"\n",
    "\n",
    "self_intro_question_lists=\"\"\"\n",
    "본인이 지원한 직무(채용분야)를 선택한 이유는 무엇이며 해당 직무에 필요한 역량을 갖추기 위해 어떠한 준비를 하였는지 본인이 보유한 경력, 지식 또는 경험을 바탕으로 설명하고, 타 지원자와 차별되는 강점은 무엇인지 기술해 주십시오.\n",
    "\"\"\"\n",
    "\n",
    "myinfo_1 =\"\"\"\n",
    "컴퓨터공학 전공\n",
    "\"\"\"\n",
    "\n",
    "myinfo_2 =\"\"\"\n",
    "SI 기업에서 웹 개발 직무 2년 수행\n",
    "\"\"\"\n",
    "\n",
    "myinfo_3 =\"\"\"\n",
    "TOEIC 800\n",
    "\"\"\"\n",
    "\n",
    "myinfo_4 =\"\"\"\n",
    "정보처리기사\n",
    "\"\"\"\n",
    "\n",
    "myinfo_5 =\"\"\"\n",
    "\n",
    "\"\"\"\n",
    "\n",
    "myinfo_6 =\"\"\"\n",
    "서울대 x Upstage에 LLM 프로젝트로 자소설 Factory를 성공적으로 개발했다.\n",
    "\"\"\"\n"
   ]
  },
  {
   "cell_type": "markdown",
   "metadata": {},
   "source": []
  },
  {
   "cell_type": "code",
   "execution_count": 13,
   "metadata": {},
   "outputs": [
    {
     "ename": "NameError",
     "evalue": "name 'cominfo_1' is not defined",
     "output_type": "error",
     "traceback": [
      "\u001b[1;31m---------------------------------------------------------------------------\u001b[0m",
      "\u001b[1;31mNameError\u001b[0m                                 Traceback (most recent call last)",
      "Cell \u001b[1;32mIn[13], line 31\u001b[0m\n\u001b[0;32m      7\u001b[0m prompt_template \u001b[38;5;241m=\u001b[39m PromptTemplate\u001b[38;5;241m.\u001b[39mfrom_template(\n\u001b[0;32m      8\u001b[0m \u001b[38;5;250m    \u001b[39m\u001b[38;5;124;03m\"\"\"\u001b[39;00m\n\u001b[0;32m      9\u001b[0m \u001b[38;5;124;03m    나는 취업준비생을 위해서 자기소개서를 작성해주는 상담사입니다. \u001b[39;00m\n\u001b[1;32m   (...)\u001b[0m\n\u001b[0;32m     28\u001b[0m \u001b[38;5;124;03m    \"\"\"\u001b[39;00m\n\u001b[0;32m     29\u001b[0m )\n\u001b[0;32m     30\u001b[0m chain \u001b[38;5;241m=\u001b[39m prompt_template \u001b[38;5;241m|\u001b[39m llm \u001b[38;5;241m|\u001b[39m StrOutputParser()\n\u001b[1;32m---> 31\u001b[0m answer \u001b[38;5;241m=\u001b[39m chain\u001b[38;5;241m.\u001b[39minvoke({\u001b[38;5;124m\"\u001b[39m\u001b[38;5;124mcominfo_1\u001b[39m\u001b[38;5;124m\"\u001b[39m: cominfo_1, \u001b[38;5;124m\"\u001b[39m\u001b[38;5;124mcominfo_2\u001b[39m\u001b[38;5;124m\"\u001b[39m: cominfo_2, \u001b[38;5;124m\"\u001b[39m\u001b[38;5;124mcominfo_3\u001b[39m\u001b[38;5;124m\"\u001b[39m: cominfo_3, \u001b[38;5;124m\"\u001b[39m\u001b[38;5;124mmyinfo_1\u001b[39m\u001b[38;5;124m\"\u001b[39m: myinfo_1, \u001b[38;5;124m\"\u001b[39m\u001b[38;5;124mmyinfo_2\u001b[39m\u001b[38;5;124m\"\u001b[39m: myinfo_3, \u001b[38;5;124m\"\u001b[39m\u001b[38;5;124mmyinfo_3\u001b[39m\u001b[38;5;124m\"\u001b[39m: myinfo_3, \u001b[38;5;124m\"\u001b[39m\u001b[38;5;124mmyinfo_4\u001b[39m\u001b[38;5;124m\"\u001b[39m: myinfo_4, \u001b[38;5;124m\"\u001b[39m\u001b[38;5;124mmyinfo_5\u001b[39m\u001b[38;5;124m\"\u001b[39m: myinfo_5, \u001b[38;5;124m\"\u001b[39m\u001b[38;5;124mmyinfo_6\u001b[39m\u001b[38;5;124m\"\u001b[39m: myinfo_6, \u001b[38;5;124m\"\u001b[39m\u001b[38;5;124mmyinfo_7\u001b[39m\u001b[38;5;124m\"\u001b[39m: myinfo_7, \u001b[38;5;124m\"\u001b[39m\u001b[38;5;124mconstraints_1\u001b[39m\u001b[38;5;124m\"\u001b[39m: constraints_2, \u001b[38;5;124m\"\u001b[39m\u001b[38;5;124mconstraints_2\u001b[39m\u001b[38;5;124m\"\u001b[39m: constraints_2, \u001b[38;5;124m\"\u001b[39m\u001b[38;5;124mself_intro_question_lists\u001b[39m\u001b[38;5;124m\"\u001b[39m: self_intro_question_lists })\n",
      "\u001b[1;31mNameError\u001b[0m: name 'cominfo_1' is not defined"
     ]
    }
   ],
   "source": [
    "# Prompt\n",
    "from langchain_upstage import ChatUpstage\n",
    "from langchain_core.output_parsers import StrOutputParser\n",
    "from langchain_core.prompts import PromptTemplate\n",
    "\n",
    "llm = ChatUpstage()\n",
    "prompt_template = PromptTemplate.from_template(\n",
    "    \"\"\"\n",
    "    나는 취업준비생을 위해서 자기소개서를 작성해주는 상담사입니다. \n",
    "    다음 회사에 대해서 자기소개서를 작성해주세요\n",
    "    회사의 신년사는 다음과 같습니다. \"{cominfo_1}\":\n",
    "    회사 소개는 다음과 같습니다. \"{cominfo_2}\":\n",
    "    회사 인재상은 다음과 같습니다. \"{cominfo_3}\":\n",
    "    내 정보는 다음과 같습니다.\n",
    "    내 학력은 다음과 같습니다. \"{myinfo_1}\":\n",
    "    내 경력은 다음과 같습니다. \"{myinfo_2}\":\n",
    "    내 공인영어성적은 다음과 같습니다. \"{myinfo_3}\":\n",
    "    내 자격증은 다음과 같습니다. \"{myinfo_4}\":\n",
    "    내 우대사항은 다음과 같습니다. \"{myinfo_5}\":\n",
    "    나를 표현하는 사건은 다음과 같습니다. \"{myinfo_6}\":\n",
    "    이전 회사 퇴사 사유는 다음과 같습니다. \"{myinfo_7}\":\n",
    "    다음 제약사항을 참고해서 작성해줘\n",
    "    채용공고는 다음과 같습니다. \"{constraints_1}\":\n",
    "    다음 질문에 대해서 자기소개서를 작성해주세요 \"{self_intro_question_lists}\":\n",
    "    최대글자수는 \"{constraints_2}\" 입니다\n",
    "    \"\n",
    "    ---\n",
    "    \"\"\"\n",
    ")\n",
    "chain = prompt_template | llm | StrOutputParser()\n",
    "answer = chain.invoke({\"cominfo_1\": cominfo_1, \"cominfo_2\": cominfo_2, \"cominfo_3\": cominfo_3, \"myinfo_1\": myinfo_1, \"myinfo_2\": myinfo_3, \"myinfo_3\": myinfo_3, \"myinfo_4\": myinfo_4, \"myinfo_5\": myinfo_5, \"myinfo_6\": myinfo_6, \"myinfo_7\": myinfo_7, \"constraints_1\": constraints_2, \"constraints_2\": constraints_2, \"self_intro_question_lists\": self_intro_question_lists })\n"
   ]
  }
 ],
 "metadata": {
  "kernelspec": {
   "display_name": ".venv",
   "language": "python",
   "name": "python3"
  },
  "language_info": {
   "codemirror_mode": {
    "name": "ipython",
    "version": 3
   },
   "file_extension": ".py",
   "mimetype": "text/x-python",
   "name": "python",
   "nbconvert_exporter": "python",
   "pygments_lexer": "ipython3",
   "version": "3.9.6"
  }
 },
 "nbformat": 4,
 "nbformat_minor": 2
}
